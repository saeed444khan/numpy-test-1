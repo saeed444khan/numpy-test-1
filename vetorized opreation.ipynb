{
 "cells": [
  {
   "cell_type": "code",
   "execution_count": 1,
   "metadata": {},
   "outputs": [],
   "source": [
    "import numpy as np"
   ]
  },
  {
   "cell_type": "code",
   "execution_count": 4,
   "metadata": {},
   "outputs": [],
   "source": [
    "a=np.random.randn((10))"
   ]
  },
  {
   "cell_type": "code",
   "execution_count": 5,
   "metadata": {},
   "outputs": [],
   "source": [
    "b=np.random.randn((10))"
   ]
  },
  {
   "cell_type": "code",
   "execution_count": 6,
   "metadata": {},
   "outputs": [
    {
     "data": {
      "text/plain": [
       "array([-0.18800542, -0.79377033,  0.62471611, -0.1647785 , -2.04247867,\n",
       "       -0.45231425, -0.52226816, -0.77640461,  0.09107242,  0.56535269])"
      ]
     },
     "execution_count": 6,
     "metadata": {},
     "output_type": "execute_result"
    }
   ],
   "source": [
    "a"
   ]
  },
  {
   "cell_type": "code",
   "execution_count": 7,
   "metadata": {},
   "outputs": [
    {
     "data": {
      "text/plain": [
       "array([ 1.16969918, -0.7435026 ,  1.04194802, -2.41304774,  1.94855116,\n",
       "        1.66036362,  0.25171229, -0.50040898,  0.1935871 ,  0.96064919])"
      ]
     },
     "execution_count": 7,
     "metadata": {},
     "output_type": "execute_result"
    }
   ],
   "source": [
    "b"
   ]
  },
  {
   "cell_type": "code",
   "execution_count": 8,
   "metadata": {},
   "outputs": [
    {
     "data": {
      "text/plain": [
       "array([ 0.98169376, -1.53727293,  1.66666413, -2.57782624, -0.09392751,\n",
       "        1.20804938, -0.27055587, -1.27681358,  0.28465953,  1.52600188])"
      ]
     },
     "execution_count": 8,
     "metadata": {},
     "output_type": "execute_result"
    }
   ],
   "source": [
    "a+b"
   ]
  },
  {
   "cell_type": "code",
   "execution_count": 9,
   "metadata": {},
   "outputs": [
    {
     "data": {
      "text/plain": [
       "array([-1.3577046 , -0.05026773, -0.41723191,  2.24826924, -3.99102983,\n",
       "       -2.11267787, -0.77398045, -0.27599563, -0.10251468, -0.39529649])"
      ]
     },
     "execution_count": 9,
     "metadata": {},
     "output_type": "execute_result"
    }
   ],
   "source": [
    "a-b"
   ]
  },
  {
   "cell_type": "code",
   "execution_count": 11,
   "metadata": {},
   "outputs": [
    {
     "data": {
      "text/plain": [
       "array([False, False,  True, False, False, False, False, False,  True,\n",
       "        True])"
      ]
     },
     "execution_count": 11,
     "metadata": {},
     "output_type": "execute_result"
    }
   ],
   "source": [
    "a>0"
   ]
  },
  {
   "cell_type": "code",
   "execution_count": 12,
   "metadata": {},
   "outputs": [
    {
     "data": {
      "text/plain": [
       "array([0.62471611, 0.09107242, 0.56535269])"
      ]
     },
     "execution_count": 12,
     "metadata": {},
     "output_type": "execute_result"
    }
   ],
   "source": [
    "a[a>0]"
   ]
  },
  {
   "cell_type": "markdown",
   "metadata": {},
   "source": [
    "# indexing siling"
   ]
  },
  {
   "cell_type": "code",
   "execution_count": 24,
   "metadata": {},
   "outputs": [],
   "source": [
    "x=np.array([1,4,6,7,8,9,0])"
   ]
  },
  {
   "cell_type": "code",
   "execution_count": 25,
   "metadata": {},
   "outputs": [
    {
     "data": {
      "text/plain": [
       "8"
      ]
     },
     "execution_count": 25,
     "metadata": {},
     "output_type": "execute_result"
    }
   ],
   "source": [
    "x[4]"
   ]
  },
  {
   "cell_type": "code",
   "execution_count": 26,
   "metadata": {},
   "outputs": [
    {
     "data": {
      "text/plain": [
       "array([6, 7, 8, 9])"
      ]
     },
     "execution_count": 26,
     "metadata": {},
     "output_type": "execute_result"
    }
   ],
   "source": [
    "x[x>4]"
   ]
  },
  {
   "cell_type": "code",
   "execution_count": 27,
   "metadata": {},
   "outputs": [
    {
     "data": {
      "text/plain": [
       "array([6, 4])"
      ]
     },
     "execution_count": 27,
     "metadata": {},
     "output_type": "execute_result"
    }
   ],
   "source": [
    "x[[2,1]]"
   ]
  },
  {
   "cell_type": "code",
   "execution_count": 36,
   "metadata": {},
   "outputs": [],
   "source": [
    "a=np.random.randn(10,10)"
   ]
  },
  {
   "cell_type": "code",
   "execution_count": 37,
   "metadata": {},
   "outputs": [
    {
     "data": {
      "text/plain": [
       "array([[-1.05642887,  2.06240411, -0.58046688,  0.0676796 ,  0.36133065,\n",
       "         1.04095995, -2.53602706,  0.64477844, -0.83555095,  0.61901313],\n",
       "       [ 0.80463699,  0.75940579,  0.24671168,  1.07206004,  0.45916536,\n",
       "         0.90221919, -0.74077421, -1.34881768, -0.17983312,  0.30065721],\n",
       "       [ 0.74495532, -0.48401155, -1.14322044, -2.09754289,  1.00884116,\n",
       "        -1.15750343,  1.259962  ,  1.22469346, -1.18716503,  1.06386291],\n",
       "       [ 0.04972035, -0.88427855,  0.8537326 ,  2.25880681, -1.03028092,\n",
       "        -0.29004835,  0.73676504,  0.6527486 ,  1.52079359,  0.25947353],\n",
       "       [-0.52954352, -0.73264061, -0.13365847,  1.21867079,  1.26915518,\n",
       "        -0.0483056 , -1.87800204, -2.03791102, -1.4124542 ,  0.10935083],\n",
       "       [ 0.64500623, -0.17847225, -1.21930707, -0.94866177, -0.33228384,\n",
       "        -1.57395604, -0.07540212, -0.27968801,  1.19259696,  0.7260572 ],\n",
       "       [ 0.02889998,  0.43535669, -0.1247849 ,  0.13045252, -1.2068781 ,\n",
       "        -0.92158831,  0.27731689, -0.16865304,  0.14485275,  0.59743636],\n",
       "       [-2.41257757,  1.54021563,  2.18095903,  1.516422  , -0.13628389,\n",
       "         0.77893254,  0.73017068,  0.54062022, -0.4582966 ,  0.98324003],\n",
       "       [-1.18174878, -0.68629181,  1.1839087 ,  1.05392595, -0.81311359,\n",
       "        -0.09386996, -0.57135218,  1.03606449, -0.17206309,  0.10693593],\n",
       "       [-0.16542802,  1.23700532,  1.42084462, -0.53758236,  1.00800595,\n",
       "         1.04260889, -1.43967496, -1.01285206,  1.05226616,  0.54690254]])"
      ]
     },
     "execution_count": 37,
     "metadata": {},
     "output_type": "execute_result"
    }
   ],
   "source": [
    "a"
   ]
  },
  {
   "cell_type": "code",
   "execution_count": 38,
   "metadata": {},
   "outputs": [
    {
     "data": {
      "text/plain": [
       "array([-1.05642887,  2.06240411, -0.58046688,  0.0676796 ,  0.36133065,\n",
       "        1.04095995, -2.53602706,  0.64477844, -0.83555095,  0.61901313])"
      ]
     },
     "execution_count": 38,
     "metadata": {},
     "output_type": "execute_result"
    }
   ],
   "source": [
    "a[0]"
   ]
  },
  {
   "cell_type": "code",
   "execution_count": 39,
   "metadata": {},
   "outputs": [
    {
     "data": {
      "text/plain": [
       "0.36133065058040936"
      ]
     },
     "execution_count": 39,
     "metadata": {},
     "output_type": "execute_result"
    }
   ],
   "source": [
    "a[0][4]"
   ]
  },
  {
   "cell_type": "code",
   "execution_count": 40,
   "metadata": {},
   "outputs": [
    {
     "data": {
      "text/plain": [
       "array([[ 0.80463699,  0.75940579,  0.24671168,  1.07206004,  0.45916536,\n",
       "         0.90221919, -0.74077421, -1.34881768, -0.17983312,  0.30065721],\n",
       "       [ 0.04972035, -0.88427855,  0.8537326 ,  2.25880681, -1.03028092,\n",
       "        -0.29004835,  0.73676504,  0.6527486 ,  1.52079359,  0.25947353],\n",
       "       [ 0.64500623, -0.17847225, -1.21930707, -0.94866177, -0.33228384,\n",
       "        -1.57395604, -0.07540212, -0.27968801,  1.19259696,  0.7260572 ],\n",
       "       [-2.41257757,  1.54021563,  2.18095903,  1.516422  , -0.13628389,\n",
       "         0.77893254,  0.73017068,  0.54062022, -0.4582966 ,  0.98324003],\n",
       "       [-0.16542802,  1.23700532,  1.42084462, -0.53758236,  1.00800595,\n",
       "         1.04260889, -1.43967496, -1.01285206,  1.05226616,  0.54690254]])"
      ]
     },
     "execution_count": 40,
     "metadata": {},
     "output_type": "execute_result"
    }
   ],
   "source": [
    "a[1:10:2]"
   ]
  },
  {
   "cell_type": "code",
   "execution_count": 43,
   "metadata": {},
   "outputs": [
    {
     "data": {
      "text/plain": [
       "array([[-1.05642887,  2.06240411, -0.58046688,  0.0676796 ],\n",
       "       [ 0.80463699,  0.75940579,  0.24671168,  1.07206004],\n",
       "       [ 0.74495532, -0.48401155, -1.14322044, -2.09754289],\n",
       "       [ 0.04972035, -0.88427855,  0.8537326 ,  2.25880681],\n",
       "       [-0.52954352, -0.73264061, -0.13365847,  1.21867079],\n",
       "       [ 0.64500623, -0.17847225, -1.21930707, -0.94866177],\n",
       "       [ 0.02889998,  0.43535669, -0.1247849 ,  0.13045252],\n",
       "       [-2.41257757,  1.54021563,  2.18095903,  1.516422  ],\n",
       "       [-1.18174878, -0.68629181,  1.1839087 ,  1.05392595],\n",
       "       [-0.16542802,  1.23700532,  1.42084462, -0.53758236]])"
      ]
     },
     "execution_count": 43,
     "metadata": {},
     "output_type": "execute_result"
    }
   ],
   "source": [
    "a[::,0:4]"
   ]
  },
  {
   "cell_type": "code",
   "execution_count": 44,
   "metadata": {},
   "outputs": [],
   "source": [
    "b=np.ones((5,5))"
   ]
  },
  {
   "cell_type": "code",
   "execution_count": 45,
   "metadata": {},
   "outputs": [
    {
     "data": {
      "text/plain": [
       "array([[1., 1., 1., 1., 1.],\n",
       "       [1., 1., 1., 1., 1.],\n",
       "       [1., 1., 1., 1., 1.],\n",
       "       [1., 1., 1., 1., 1.],\n",
       "       [1., 1., 1., 1., 1.]])"
      ]
     },
     "execution_count": 45,
     "metadata": {},
     "output_type": "execute_result"
    }
   ],
   "source": [
    "b"
   ]
  },
  {
   "cell_type": "code",
   "execution_count": 46,
   "metadata": {},
   "outputs": [],
   "source": [
    "b[1:-1,1:-1]=0"
   ]
  },
  {
   "cell_type": "code",
   "execution_count": 47,
   "metadata": {},
   "outputs": [
    {
     "data": {
      "text/plain": [
       "array([[1., 1., 1., 1., 1.],\n",
       "       [1., 0., 0., 0., 1.],\n",
       "       [1., 0., 0., 0., 1.],\n",
       "       [1., 0., 0., 0., 1.],\n",
       "       [1., 1., 1., 1., 1.]])"
      ]
     },
     "execution_count": 47,
     "metadata": {},
     "output_type": "execute_result"
    }
   ],
   "source": [
    "b"
   ]
  },
  {
   "cell_type": "markdown",
   "metadata": {},
   "source": [
    "# function"
   ]
  },
  {
   "cell_type": "code",
   "execution_count": 49,
   "metadata": {},
   "outputs": [],
   "source": [
    "d=np.array([10,9,6,8,7])"
   ]
  },
  {
   "cell_type": "code",
   "execution_count": 51,
   "metadata": {},
   "outputs": [
    {
     "data": {
      "text/plain": [
       "array([3.16227766, 3.        , 2.44948974, 2.82842712, 2.64575131])"
      ]
     },
     "execution_count": 51,
     "metadata": {},
     "output_type": "execute_result"
    }
   ],
   "source": [
    "np.sqrt(d)"
   ]
  },
  {
   "cell_type": "code",
   "execution_count": 52,
   "metadata": {},
   "outputs": [
    {
     "data": {
      "text/plain": [
       "array([100,  81,  36,  64,  49], dtype=int32)"
      ]
     },
     "execution_count": 52,
     "metadata": {},
     "output_type": "execute_result"
    }
   ],
   "source": [
    "np.power(d,2)"
   ]
  },
  {
   "cell_type": "code",
   "execution_count": 55,
   "metadata": {},
   "outputs": [],
   "source": [
    "y=[4,3,2,5,-1]"
   ]
  },
  {
   "cell_type": "code",
   "execution_count": 60,
   "metadata": {},
   "outputs": [
    {
     "data": {
      "text/plain": [
       "array([10,  9,  6,  8,  7])"
      ]
     },
     "execution_count": 60,
     "metadata": {},
     "output_type": "execute_result"
    }
   ],
   "source": [
    "np.maximum(y,d)"
   ]
  },
  {
   "cell_type": "code",
   "execution_count": null,
   "metadata": {},
   "outputs": [],
   "source": []
  }
 ],
 "metadata": {
  "kernelspec": {
   "display_name": "Python 3",
   "language": "python",
   "name": "python3"
  },
  "language_info": {
   "codemirror_mode": {
    "name": "ipython",
    "version": 3
   },
   "file_extension": ".py",
   "mimetype": "text/x-python",
   "name": "python",
   "nbconvert_exporter": "python",
   "pygments_lexer": "ipython3",
   "version": "3.7.4"
  }
 },
 "nbformat": 4,
 "nbformat_minor": 2
}
